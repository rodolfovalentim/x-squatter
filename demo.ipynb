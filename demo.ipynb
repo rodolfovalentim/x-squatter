{
 "cells": [
  {
   "cell_type": "code",
   "execution_count": 1,
   "id": "01cefbcd-f91b-4267-a8a1-0de804546d5d",
   "metadata": {},
   "outputs": [],
   "source": [
    "%load_ext autoreload\n",
    "%autoreload 2"
   ]
  },
  {
   "cell_type": "code",
   "execution_count": 2,
   "id": "1302eb7a-2fea-451c-a225-e4edb9a2df6b",
   "metadata": {},
   "outputs": [],
   "source": [
    "!pip install -r requirements.txt -q"
   ]
  },
  {
   "cell_type": "code",
   "execution_count": null,
   "id": "ecd49ae1-b5d5-4adc-91a7-f92566bd021f",
   "metadata": {},
   "outputs": [],
   "source": [
    "from itertools import product\n",
    "from src.utils import Pipeline\n",
    "\n",
    "pipeline = Pipeline('./trained_models/checkpoints/version_0')"
   ]
  },
  {
   "cell_type": "code",
   "execution_count": 7,
   "id": "6686f393-b117-4fd6-8b9d-bc3ae11c1901",
   "metadata": {},
   "outputs": [
    {
     "name": "stdout",
     "output_type": "stream",
     "text": [
      "Candidates for: ciocolatto\n",
      "        read in: it \n",
      "        pronounced as: t͡ʃokolatːo\n",
      "        written in: en-us \n",
      "        are: [ chocolato, chocolatto, chokolato, chokolatto, chocollatto, chocollato, chokolatola, chockolato, chocolatlo, chocolatola, chocolattola, chokolattola, chocolatla, chocolatloto, chocolattol ]\n"
     ]
    }
   ],
   "source": [
    "print(pipeline.generate_homophones('ciocolatto', p=0.99, t=1, number_candidates=35, pronunciation_language='it', target_language='en-us', \n",
    "                                   disable_progress_bar=True, validate_sentence=True))"
   ]
  }
 ],
 "metadata": {
  "kernelspec": {
   "display_name": "Python 3 (ipykernel)",
   "language": "python",
   "name": "python3"
  },
  "language_info": {
   "codemirror_mode": {
    "name": "ipython",
    "version": 3
   },
   "file_extension": ".py",
   "mimetype": "text/x-python",
   "name": "python",
   "nbconvert_exporter": "python",
   "pygments_lexer": "ipython3",
   "version": "3.9.13"
  }
 },
 "nbformat": 4,
 "nbformat_minor": 5
}
